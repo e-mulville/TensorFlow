{
  "nbformat": 4,
  "nbformat_minor": 0,
  "metadata": {
    "colab": {
      "name": "Test.ipynb",
      "version": "0.3.2",
      "provenance": [],
      "include_colab_link": true
    },
    "kernelspec": {
      "name": "python3",
      "display_name": "Python 3"
    }
  },
  "cells": [
    {
      "cell_type": "markdown",
      "metadata": {
        "id": "view-in-github",
        "colab_type": "text"
      },
      "source": [
        "[View in Colaboratory](https://colab.research.google.com/github/e-mulville/TensorFlow/blob/master/Test.ipynb)"
      ]
    },
    {
      "metadata": {
        "id": "edrAI9eXcudl",
        "colab_type": "code",
        "colab": {
          "base_uri": "https://localhost:8080/",
          "height": 34
        },
        "outputId": "60b86aeb-a37a-4bd7-ccc1-6a1d715e8927"
      },
      "cell_type": "code",
      "source": [
        "a = 10\n",
        "a"
      ],
      "execution_count": 2,
      "outputs": [
        {
          "output_type": "execute_result",
          "data": {
            "text/plain": [
              "10"
            ]
          },
          "metadata": {
            "tags": []
          },
          "execution_count": 2
        }
      ]
    },
    {
      "metadata": {
        "id": "-vJbb7K1dNTV",
        "colab_type": "text"
      },
      "cell_type": "markdown",
      "source": [
        "Hello!"
      ]
    }
  ]
}