{
  "nbformat": 4,
  "nbformat_minor": 0,
  "metadata": {
    "colab": {
      "name": "Test.ipynb",
      "version": "0.3.2",
      "provenance": [],
      "include_colab_link": true
    },
    "kernelspec": {
      "name": "python3",
      "display_name": "Python 3"
    }
  },
  "cells": [
    {
      "cell_type": "markdown",
      "metadata": {
        "id": "view-in-github",
        "colab_type": "text"
      },
      "source": [
        "[View in Colaboratory](https://colab.research.google.com/github/e-mulville/TensorFlow/blob/master/SimpleModel.ipynb)"
      ]
    },
    {
      "metadata": {
        "id": "edrAI9eXcudl",
        "colab_type": "code",
        "colab": {
          "base_uri": "https://localhost:8080/",
          "height": 243
        },
        "outputId": "1427ece4-850b-4f9c-bd02-7ff170ff7b4b"
      },
      "cell_type": "code",
      "source": [
        "# TensorFlow and tf.keras\n",
        "import tensorflow as tf\n",
        "from tensorflow import keras\n",
        "\n",
        "# Helper libraries\n",
        "import numpy as np\n",
        "import matplotlib.pyplot as plt\n",
        "\n",
        "fashion_mnist = keras.datasets.fashion_mnist\n",
        "\n",
        "(train_images, train_labels), (test_images, test_labels) = fashion_mnist.load_data()\n",
        "\n",
        "class_names = ['T-shirt/top', 'Trouser', 'Pullover', 'Dress', 'Coat', \n",
        "               'Sandal', 'Shirt', 'Sneaker', 'Bag', 'Ankle boot']\n",
        "\n",
        "train_images = train_images / 255.0\n",
        "\n",
        "test_images = test_images / 255.0\n",
        "\n",
        "\n",
        "model = keras.Sequential([\n",
        "    keras.layers.Flatten(input_shape=(28, 28)),\n",
        "    keras.layers.Dense(128, activation=tf.nn.relu),\n",
        "    keras.layers.Dense(10, activation=tf.nn.softmax)\n",
        "])\n",
        "\n",
        "model.compile(optimizer=tf.train.AdamOptimizer(), \n",
        "              loss='sparse_categorical_crossentropy',\n",
        "              metrics=['accuracy'])\n",
        "\n",
        "model.fit(train_images, train_labels, epochs=5)\n",
        "\n",
        "predictions = model.predict(test_images)\n",
        "\n",
        "predictions[0]\n",
        "\n",
        "\n",
        "\n"
      ],
      "execution_count": 12,
      "outputs": [
        {
          "output_type": "stream",
          "text": [
            "Epoch 1/5\n",
            "60000/60000 [==============================] - 5s 84us/step - loss: 0.4995 - acc: 0.8253\n",
            "Epoch 2/5\n",
            "60000/60000 [==============================] - 5s 80us/step - loss: 0.3753 - acc: 0.8652\n",
            "Epoch 3/5\n",
            "60000/60000 [==============================] - 5s 80us/step - loss: 0.3364 - acc: 0.8767\n",
            "Epoch 4/5\n",
            "60000/60000 [==============================] - 5s 79us/step - loss: 0.3107 - acc: 0.8856\n",
            "Epoch 5/5\n",
            "60000/60000 [==============================] - 5s 79us/step - loss: 0.2949 - acc: 0.8912\n"
          ],
          "name": "stdout"
        },
        {
          "output_type": "execute_result",
          "data": {
            "text/plain": [
              "array([2.7065047e-05, 1.7027583e-07, 1.3045438e-06, 6.1942842e-08,\n",
              "       1.5500132e-06, 5.8476776e-02, 9.6867425e-06, 3.7955064e-02,\n",
              "       4.7436741e-04, 9.0305406e-01], dtype=float32)"
            ]
          },
          "metadata": {
            "tags": []
          },
          "execution_count": 12
        }
      ]
    },
    {
      "metadata": {
        "id": "-vJbb7K1dNTV",
        "colab_type": "text"
      },
      "cell_type": "markdown",
      "source": [
        "---\n",
        "\n",
        "Testing the techniques from https://www.tensorflow.org/tutorials/keras/basic_classification on a different dataset.\n",
        "\n",
        "\n",
        "\n"
      ]
    },
    {
      "metadata": {
        "id": "811Morv4hkFM",
        "colab_type": "code",
        "colab": {
          "base_uri": "https://localhost:8080/",
          "height": 225
        },
        "outputId": "3167fc1b-4464-4923-de35-2da01c0221bb"
      },
      "cell_type": "code",
      "source": [
        "import tensorflow as tf\n",
        "from tensorflow import keras\n",
        "\n",
        "import numpy as np\n",
        "import matplotlib.pyplot as plt\n",
        "\n",
        "numbers_mnist = keras.datasets.mnist\n",
        "\n",
        "(train_images, train_labels), (test_images, test_labels) = numbers_mnist.load_data()\n",
        "\n",
        "train_images = train_images/ 255\n",
        "test_images = test_images/ 255\n",
        "\n",
        "model = keras.Sequential([\n",
        "    keras.layers.Flatten(input_shape = (28,28)),\n",
        "    keras.layers.Dense(128, activation = tf.nn.relu),\n",
        "    keras.layers.Dense(10, activation = tf.nn.softmax)\n",
        "])\n",
        "\n",
        "model.compile(optimizer=tf.train.AdamOptimizer(),\n",
        "             loss = 'sparse_categorical_crossentropy',\n",
        "             metrics=['accuracy'])\n",
        "\n",
        "model.fit(train_images, train_labels, epochs = 5)\n",
        "\n",
        "test_loss, test_acc = model.evaluate(test_images, test_labels)\n",
        "\n",
        "print('Test accuracy:', test_acc)\n"
      ],
      "execution_count": 25,
      "outputs": [
        {
          "output_type": "stream",
          "text": [
            "Epoch 1/5\n",
            "60000/60000 [==============================] - 8s 131us/step - loss: 0.2596 - acc: 0.9262\n",
            "Epoch 2/5\n",
            "60000/60000 [==============================] - 7s 124us/step - loss: 0.1140 - acc: 0.9654\n",
            "Epoch 3/5\n",
            "60000/60000 [==============================] - 7s 121us/step - loss: 0.0777 - acc: 0.9760\n",
            "Epoch 4/5\n",
            "60000/60000 [==============================] - 8s 135us/step - loss: 0.0584 - acc: 0.9823\n",
            "Epoch 5/5\n",
            "60000/60000 [==============================] - 7s 119us/step - loss: 0.0453 - acc: 0.9862\n",
            "10000/10000 [==============================] - 1s 66us/step\n",
            "Test accuracy: 0.9745\n"
          ],
          "name": "stdout"
        }
      ]
    }
  ]
}